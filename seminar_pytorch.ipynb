{
  "cells": [
    {
      "cell_type": "markdown",
      "metadata": {
        "id": "H1nSxOdfq2tJ"
      },
      "source": [
        "# Approximate q-learning\n",
        "\n",
        "In this notebook you will teach a __PyTorch__ neural network to do Q-learning."
      ]
    },
    {
      "cell_type": "code",
      "execution_count": 2,
      "metadata": {
        "id": "9PXWiTPRq2tN",
        "outputId": "5ccea827-b7fc-4762-ad16-f8a6271b63c9",
        "colab": {
          "base_uri": "https://localhost:8080/"
        }
      },
      "outputs": [
        {
          "output_type": "stream",
          "name": "stdout",
          "text": [
            "Selecting previously unselected package xvfb.\n",
            "(Reading database ... 155113 files and directories currently installed.)\n",
            "Preparing to unpack .../xvfb_2%3a1.19.6-1ubuntu4.10_amd64.deb ...\n",
            "Unpacking xvfb (2:1.19.6-1ubuntu4.10) ...\n",
            "Setting up xvfb (2:1.19.6-1ubuntu4.10) ...\n",
            "Processing triggers for man-db (2.8.3-2ubuntu0.1) ...\n",
            "Starting virtual X frame buffer: Xvfb.\n"
          ]
        }
      ],
      "source": [
        "import sys, os\n",
        "if 'google.colab' in sys.modules and not os.path.exists('.setup_complete'):\n",
        "    !wget -q https://raw.githubusercontent.com/yandexdataschool/Practical_RL/master/setup_colab.sh -O- | bash\n",
        "    !touch .setup_complete\n",
        "\n",
        "# This code creates a virtual display to draw game images on.\n",
        "# It will have no effect if your machine has a monitor.\n",
        "if type(os.environ.get(\"DISPLAY\")) is not str or len(os.environ.get(\"DISPLAY\")) == 0:\n",
        "    !bash ../xvfb start\n",
        "    os.environ['DISPLAY'] = ':1'"
      ]
    },
    {
      "cell_type": "code",
      "execution_count": 1,
      "metadata": {
        "id": "TFKUSTCgq2tO"
      },
      "outputs": [],
      "source": [
        "import gym\n",
        "import numpy as np\n",
        "import pandas as pd\n",
        "import matplotlib.pyplot as plt\n",
        "%matplotlib inline"
      ]
    },
    {
      "cell_type": "code",
      "execution_count": 3,
      "metadata": {
        "id": "-qdRmEypq2tP",
        "outputId": "eab4741d-7eb5-4b7f-d505-90dee41776d6",
        "colab": {
          "base_uri": "https://localhost:8080/",
          "height": 269
        }
      },
      "outputs": [
        {
          "output_type": "display_data",
          "data": {
            "image/png": "[encoded data removed]",
            "text/plain": [
              "<Figure size 432x288 with 1 Axes>"
            ]
          },
          "metadata": {
            "needs_background": "light"
          }
        }
      ],
      "source": [
        "env = gym.make(\"CartPole-v0\").env\n",
        "env.reset()\n",
        "n_actions = env.action_space.n\n",
        "state_dim = env.observation_space.shape\n",
        "\n",
        "plt.imshow(env.render(\"rgb_array\"))\n",
        "env.close()"
      ]
    },
    {
      "cell_type": "markdown",
      "metadata": {
        "id": "oxZBTvg_q2tP"
      },
      "source": [
        "# Approximate Q-learning: building the network\n",
        "\n",
        "To train a neural network policy one must have a neural network policy. Let's build it.\n",
        "\n",
        "\n",
        "Since we're working with a pre-extracted features (cart positions, angles and velocities), we don't need a complicated network yet. In fact, let's build something like this for starters:\n",
        "\n",
        "![img](https://raw.githubusercontent.com/yandexdataschool/Practical_RL/master/yet_another_week/_resource/qlearning_scheme.png)\n",
        "\n",
        "For your first run, please only use linear layers (`nn.Linear`) and activations. Stuff like batch normalization or dropout may ruin everything if used haphazardly. \n",
        "\n",
        "Also please avoid using nonlinearities like sigmoid & tanh: since agent's observations are not normalized, sigmoids might be saturated at initialization. Instead, use non-saturating nonlinearities like ReLU.\n",
        "\n",
        "Ideally you should start small with maybe 1-2 hidden layers with < 200 neurons and then increase network size if agent doesn't beat the target score."
      ]
    },
    {
      "cell_type": "code",
      "execution_count": 6,
      "metadata": {
        "id": "fQFDdd78q2tQ"
      },
      "outputs": [],
      "source": [
        "import torch\n",
        "import torch.nn as nn\n",
        "import torch.nn.functional as F"
      ]
    },
    {
      "cell_type": "code",
      "execution_count": 7,
      "metadata": {
        "id": "DCeHDGJUq2tQ"
      },
      "outputs": [],
      "source": [
        "network = nn.Sequential()\n",
        "\n",
        "network.add_module('linear 1', nn.Linear(state_dim[0], 200))\n",
        "network.add_module('nonlinear 1', nn.ReLU())\n",
        "network.add_module('linear 2', nn.Linear(200, 200))\n",
        "network.add_module('nonlinear 2', nn.ReLU())\n",
        "network.add_module('linear 3', nn.Linear(200, n_actions))\n",
        "\n",
        "\n",
        "# hint: use state_dim[0] as input size"
      ]
    },
    {
      "cell_type": "code",
      "execution_count": 14,
      "metadata": {
        "id": "oTKXZlm_q2tR"
      },
      "outputs": [],
      "source": [
        "def get_action(state, epsilon=0):\n",
        "    \"\"\"\n",
        "    sample actions with epsilon-greedy policy\n",
        "    recap: with p = epsilon pick random action, else pick action with highest Q(s,a)\n",
        "    \"\"\"\n",
        "    state = torch.tensor(state[None], dtype=torch.float32)\n",
        "\n",
        "    with torch.no_grad():\n",
        "      q_values = network(state).numpy()\n",
        "\n",
        "    action = np.argmax(q_values)\n",
        "\n",
        "    # being greedy\n",
        "    if np.random.uniform(0,1) < epsilon:\n",
        "      action = np.random.choice([0,1])\n",
        "\n",
        "    return int(action)"
      ]
    },
    {
      "cell_type": "code",
      "execution_count": 15,
      "metadata": {
        "id": "AXP7yp6Mq2tS",
        "outputId": "0fa3d950-a311-4a27-c12f-c46dbe6ac24f",
        "colab": {
          "base_uri": "https://localhost:8080/"
        }
      },
      "outputs": [
        {
          "output_type": "stream",
          "name": "stdout",
          "text": [
            "e=0.0 tests passed\n",
            "e=0.1 tests passed\n",
            "e=0.5 tests passed\n",
            "e=1.0 tests passed\n"
          ]
        }
      ],
      "source": [
        "s = env.reset()\n",
        "assert tuple(network(torch.tensor([s]*3, dtype=torch.float32)).size()) == (\n",
        "    3, n_actions), \"please make sure your model maps state s -> [Q(s,a0), ..., Q(s, a_last)]\"\n",
        "assert isinstance(list(network.modules(\n",
        "))[-1], nn.Linear), \"please make sure you predict q-values without nonlinearity (ignore if you know what you're doing)\"\n",
        "assert isinstance(get_action(\n",
        "    s), int), \"get_action(s) must return int, not %s. try int(action)\" % (type(get_action(s)))\n",
        "\n",
        "# test epsilon-greedy exploration\n",
        "for eps in [0., 0.1, 0.5, 1.0]:\n",
        "    state_frequencies = np.bincount(\n",
        "        [get_action(s, epsilon=eps) for i in range(10000)], minlength=n_actions)\n",
        "    best_action = state_frequencies.argmax()\n",
        "    assert abs(state_frequencies[best_action] -\n",
        "               10000 * (1 - eps + eps / n_actions)) < 200\n",
        "    for other_action in range(n_actions):\n",
        "        if other_action != best_action:\n",
        "            assert abs(state_frequencies[other_action] -\n",
        "                       10000 * (eps / n_actions)) < 200\n",
        "    print('e=%.1f tests passed' % eps)"
      ]
    },
    {
      "cell_type": "markdown",
      "metadata": {
        "id": "cl4kYb6yq2tS"
      },
      "source": [
        "### Q-learning via gradient descent\n",
        "\n",
        "We shall now train our agent's Q-function by minimizing the TD loss:\n",
        "$$ L = { 1 \\over N} \\sum_i (Q_{\\theta}(s,a) - [r(s,a) + \\gamma \\cdot max_{a'} Q_{-}(s', a')]) ^2 $$\n",
        "\n",
        "\n",
        "Where\n",
        "* $s, a, r, s'$ are current state, action, reward and next state respectively\n",
        "* $\\gamma$ is a discount factor defined two cells above.\n",
        "\n",
        "The tricky part is with  $Q_{-}(s',a')$. From an engineering standpoint, it's the same as $Q_{\\theta}$ - the output of your neural network policy. However, when doing gradient descent, __we won't propagate gradients through it__ to make training more stable (see lectures).\n",
        "\n",
        "To do so, we shall use `x.detach()` function which basically says \"consider this thing constant when doingbackprop\"."
      ]
    },
    {
      "cell_type": "code",
      "execution_count": 16,
      "metadata": {
        "id": "THnC2AwAq2tT"
      },
      "outputs": [],
      "source": [
        "def compute_td_loss(states, actions, rewards, next_states, is_done, gamma=0.99, check_shapes=False):\n",
        "    \"\"\" Compute td loss using torch operations only. Use the formula above. \"\"\"\n",
        "    states = torch.tensor(\n",
        "        states, dtype=torch.float32)    # shape: [batch_size, state_size]\n",
        "    actions = torch.tensor(actions, dtype=torch.long)    # shape: [batch_size]\n",
        "    rewards = torch.tensor(rewards, dtype=torch.float32)  # shape: [batch_size]\n",
        "    # shape: [batch_size, state_size]\n",
        "    next_states = torch.tensor(next_states, dtype=torch.float32)\n",
        "    is_done = torch.tensor(is_done, dtype=torch.uint8)  # shape: [batch_size]\n",
        "\n",
        "    # get q-values for all actions in current states\n",
        "    predicted_qvalues = network(states)\n",
        "\n",
        "    # select q-values for chosen actions\n",
        "    predicted_qvalues_for_actions = predicted_qvalues[\n",
        "      range(states.shape[0]), actions\n",
        "    ]\n",
        "\n",
        "    # compute q-values for all actions in next states\n",
        "    with torch.no_grad():\n",
        "      predicted_next_qvalues = network(next_states)\n",
        "\n",
        "    # compute V*(next_states) using predicted next q-values\n",
        "    next_state_values = torch.max(predicted_next_qvalues, dim=1).values\n",
        "    assert next_state_values.dtype == torch.float32\n",
        "\n",
        "    # compute \"target q-values\" for loss - it's what's inside square parentheses in the above formula.\n",
        "    target_qvalues_for_actions = rewards + gamma * next_state_values\n",
        "\n",
        "    # at the last state we shall use simplified formula: Q(s,a) = r(s,a) since s' doesn't exist\n",
        "    target_qvalues_for_actions = torch.where(\n",
        "        is_done, rewards, target_qvalues_for_actions)\n",
        "\n",
        "    # mean squared error loss to minimize\n",
        "    loss = torch.mean((predicted_qvalues_for_actions -\n",
        "                       target_qvalues_for_actions.detach()) ** 2)\n",
        "\n",
        "    if check_shapes:\n",
        "        assert predicted_next_qvalues.data.dim(\n",
        "        ) == 2, \"make sure you predicted q-values for all actions in next state\"\n",
        "        assert next_state_values.data.dim(\n",
        "        ) == 1, \"make sure you computed V(s') as maximum over just the actions axis and not all axes\"\n",
        "        assert target_qvalues_for_actions.data.dim(\n",
        "        ) == 1, \"there's something wrong with target q-values, they must be a vector\"\n",
        "\n",
        "    return loss"
      ]
    },
    {
      "cell_type": "code",
      "execution_count": 17,
      "metadata": {
        "id": "c8QwzgYOq2tT",
        "outputId": "3cbaec8c-46fa-464b-f56d-2adbf7a518aa",
        "colab": {
          "base_uri": "https://localhost:8080/"
        }
      },
      "outputs": [
        {
          "output_type": "stream",
          "name": "stderr",
          "text": [
            "/usr/local/lib/python3.7/dist-packages/ipykernel_launcher.py:32: UserWarning: where received a uint8 condition tensor. This behavior is deprecated and will be removed in a future version of PyTorch. Use a boolean condition instead. (Triggered internally at  ../aten/src/ATen/native/TensorCompare.cpp:328.)\n"
          ]
        }
      ],
      "source": [
        "# sanity checks\n",
        "s = env.reset()\n",
        "a = env.action_space.sample()\n",
        "next_s, r, done, _ = env.step(a)\n",
        "loss = compute_td_loss([s], [a], [r], [next_s], [done], check_shapes=True)\n",
        "loss.backward()\n",
        "\n",
        "assert len(loss.size()) == 0, \"you must return scalar loss - mean over batch\"\n",
        "assert np.any(next(network.parameters()).grad.detach().numpy() !=\n",
        "              0), \"loss must be differentiable w.r.t. network weights\""
      ]
    },
    {
      "cell_type": "markdown",
      "metadata": {
        "id": "Jnns6lSaq2tU"
      },
      "source": [
        "### Playing the game"
      ]
    },
    {
      "cell_type": "code",
      "execution_count": 18,
      "metadata": {
        "id": "zuOK-R-eq2tU"
      },
      "outputs": [],
      "source": [
        "opt = torch.optim.Adam(network.parameters(), lr=1e-4)"
      ]
    },
    {
      "cell_type": "code",
      "execution_count": 19,
      "metadata": {
        "id": "b25VsI-Iq2tU"
      },
      "outputs": [],
      "source": [
        "def generate_session(env, t_max=1000, epsilon=0, train=False):\n",
        "    \"\"\"play env with approximate q-learning agent and train it at the same time\"\"\"\n",
        "    total_reward = 0\n",
        "    s = env.reset()\n",
        "\n",
        "    for t in range(t_max):\n",
        "        a = get_action(s, epsilon=epsilon)\n",
        "        next_s, r, done, _ = env.step(a)\n",
        "\n",
        "        if train:\n",
        "            opt.zero_grad()\n",
        "            compute_td_loss([s], [a], [r], [next_s], [done]).backward()\n",
        "            opt.step()\n",
        "\n",
        "        total_reward += r\n",
        "        s = next_s\n",
        "        if done:\n",
        "            break\n",
        "\n",
        "    return total_reward"
      ]
    },
    {
      "cell_type": "code",
      "execution_count": 20,
      "metadata": {
        "id": "Jr8-g8g8q2tV"
      },
      "outputs": [],
      "source": [
        "epsilon = 0.5"
      ]
    },
    {
      "cell_type": "code",
      "execution_count": 21,
      "metadata": {
        "id": "5K8bdOCfq2tV",
        "outputId": "878eef0d-3435-4188-9c62-fcdfa9b0a99c",
        "colab": {
          "base_uri": "https://localhost:8080/"
        }
      },
      "outputs": [
        {
          "output_type": "stream",
          "name": "stdout",
          "text": [
            "epoch #0\tmean reward = 13.970\tepsilon = 0.500\n",
            "epoch #1\tmean reward = 15.270\tepsilon = 0.495\n",
            "epoch #2\tmean reward = 14.510\tepsilon = 0.490\n",
            "epoch #3\tmean reward = 26.430\tepsilon = 0.485\n",
            "epoch #4\tmean reward = 33.020\tepsilon = 0.480\n",
            "epoch #5\tmean reward = 48.480\tepsilon = 0.475\n",
            "epoch #6\tmean reward = 61.660\tepsilon = 0.471\n",
            "epoch #7\tmean reward = 89.920\tepsilon = 0.466\n",
            "epoch #8\tmean reward = 127.050\tepsilon = 0.461\n",
            "epoch #9\tmean reward = 118.390\tepsilon = 0.457\n",
            "epoch #10\tmean reward = 164.670\tepsilon = 0.452\n",
            "epoch #11\tmean reward = 163.240\tepsilon = 0.448\n",
            "epoch #12\tmean reward = 144.650\tepsilon = 0.443\n",
            "epoch #13\tmean reward = 170.020\tepsilon = 0.439\n",
            "epoch #14\tmean reward = 198.950\tepsilon = 0.434\n",
            "epoch #15\tmean reward = 196.340\tepsilon = 0.430\n",
            "epoch #16\tmean reward = 187.800\tepsilon = 0.426\n",
            "epoch #17\tmean reward = 269.880\tepsilon = 0.421\n",
            "epoch #18\tmean reward = 290.970\tepsilon = 0.417\n",
            "epoch #19\tmean reward = 315.770\tepsilon = 0.413\n",
            "You Win!\n"
          ]
        }
      ],
      "source": [
        "for i in range(1000):\n",
        "    session_rewards = [generate_session(env, epsilon=epsilon, train=True) for _ in range(100)]\n",
        "    print(\"epoch #{}\\tmean reward = {:.3f}\\tepsilon = {:.3f}\".format(i, np.mean(session_rewards), epsilon))\n",
        "\n",
        "    epsilon *= 0.99\n",
        "    assert epsilon >= 1e-4, \"Make sure epsilon is always nonzero during training\"\n",
        "\n",
        "    if np.mean(session_rewards) > 300:\n",
        "        print(\"You Win!\")\n",
        "        break"
      ]
    },
    {
      "cell_type": "markdown",
      "metadata": {
        "id": "RMkAcKMBq2tV"
      },
      "source": [
        "### How to interpret results\n",
        "\n",
        "\n",
        "Welcome to the f.. world of deep f...n reinforcement learning. Don't expect agent's reward to smoothly go up. Hope for it to go increase eventually. If it deems you worthy.\n",
        "\n",
        "Seriously though,\n",
        "* __ mean reward__ is the average reward per game. For a correct implementation it may stay low for some 10 epochs, then start growing while oscilating insanely and converges by ~50-100 steps depending on the network architecture. \n",
        "* If it never reaches target score by the end of for loop, try increasing the number of hidden neurons or look at the epsilon.\n",
        "* __ epsilon__ - agent's willingness to explore. If you see that agent's already at < 0.01 epsilon before it's is at least 200, just reset it back to 0.1 - 0.5."
      ]
    },
    {
      "cell_type": "markdown",
      "metadata": {
        "id": "0zQhS3CMq2tV"
      },
      "source": [
        "### Record videos\n",
        "\n",
        "As usual, we now use `gym.wrappers.Monitor` to record a video of our agent playing the game. Unlike our previous attempts with state binarization, this time we expect our agent to act ~~(or fail)~~ more smoothly since there's no more binarization error at play.\n",
        "\n",
        "As you already did with tabular q-learning, we set epsilon=0 for final evaluation to prevent agent from exploring himself to death."
      ]
    },
    {
      "cell_type": "code",
      "execution_count": 22,
      "metadata": {
        "id": "gYS_ckRFq2tV"
      },
      "outputs": [],
      "source": [
        "# Record sessions\n",
        "\n",
        "import gym.wrappers\n",
        "\n",
        "with gym.wrappers.Monitor(gym.make(\"CartPole-v0\"), directory=\"videos\", force=True) as env_monitor:\n",
        "    sessions = [generate_session(env_monitor, epsilon=0, train=False) for _ in range(100)]"
      ]
    },
    {
      "cell_type": "code",
      "execution_count": 23,
      "metadata": {
        "id": "O804uDDLq2tW",
        "outputId": "dd570863-e48f-44fa-d43d-25c3b60364f6",
        "colab": {
          "base_uri": "https://localhost:8080/",
          "height": 501
        }
      },
      "outputs": [
        {
          "output_type": "execute_result",
          "data": {
            "text/html": [
              "\n",
              "<video width=\"640\" height=\"480\" controls>\n",
              "  <source src=\"data:video/mp4;base64,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\" type=\"video/mp4\">\n",
              "</video>\n"
            ],
            "text/plain": [
              "<IPython.core.display.HTML object>"
            ]
          },
          "metadata": {},
          "execution_count": 23
        }
      ],
      "source": [
        "# Show video. This may not work in some setups. If it doesn't\n",
        "# work for you, you can download the videos and view them locally.\n",
        "\n",
        "from pathlib import Path\n",
        "from base64 import b64encode\n",
        "from IPython.display import HTML\n",
        "\n",
        "video_paths = sorted([s for s in Path('videos').iterdir() if s.suffix == '.mp4'])\n",
        "video_path = video_paths[-1]  # You can also try other indices\n",
        "\n",
        "if 'google.colab' in sys.modules:\n",
        "    # https://stackoverflow.com/a/57378660/1214547\n",
        "    with video_path.open('rb') as fp:\n",
        "        mp4 = fp.read()\n",
        "    data_url = 'data:video/mp4;base64,' + b64encode(mp4).decode()\n",
        "else:\n",
        "    data_url = str(video_path)\n",
        "\n",
        "HTML(\"\"\"\n",
        "<video width=\"640\" height=\"480\" controls>\n",
        "  <source src=\"{}\" type=\"video/mp4\">\n",
        "</video>\n",
        "\"\"\".format(data_url))"
      ]
    },
    {
      "cell_type": "code",
      "source": [
        ""
      ],
      "metadata": {
        "id": "lwtwXUuVtf8P"
      },
      "execution_count": null,
      "outputs": []
    }
  ],
  "metadata": {
    "language_info": {
      "name": "python"
    },
    "colab": {
      "name": "seminar_pytorch.ipynb",
      "provenance": []
    },
    "kernelspec": {
      "name": "python3",
      "display_name": "Python 3"
    }
  },
  "nbformat": 4,
  "nbformat_minor": 0
}