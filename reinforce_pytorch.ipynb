{
  "cells": [
    {
      "cell_type": "markdown",
      "metadata": {
        "id": "a6e9PzHUsCsf"
      },
      "source": [
        "# REINFORCE in PyTorch\n",
        "\n",
        "Just like we did before for Q-learning, this time we'll design a PyTorch network to learn `CartPole-v0` via policy gradient (REINFORCE).\n",
        "\n",
        "Most of the code in this notebook is taken from approximate Q-learning, so you'll find it more or less familiar and even simpler."
      ]
    },
    {
      "cell_type": "code",
      "execution_count": 1,
      "metadata": {
        "id": "p-LzNbEysCsi",
        "outputId": "e9a50014-1b1b-42fc-e736-c03f014ffad6",
        "colab": {
          "base_uri": "https://localhost:8080/"
        }
      },
      "outputs": [
        {
          "output_type": "stream",
          "name": "stdout",
          "text": [
            "Selecting previously unselected package xvfb.\n",
            "(Reading database ... 156210 files and directories currently installed.)\n",
            "Preparing to unpack .../xvfb_2%3a1.19.6-1ubuntu4.10_amd64.deb ...\n",
            "Unpacking xvfb (2:1.19.6-1ubuntu4.10) ...\n",
            "Setting up xvfb (2:1.19.6-1ubuntu4.10) ...\n",
            "Processing triggers for man-db (2.8.3-2ubuntu0.1) ...\n",
            "Starting virtual X frame buffer: Xvfb.\n"
          ]
        }
      ],
      "source": [
        "import sys, os\n",
        "if 'google.colab' in sys.modules and not os.path.exists('.setup_complete'):\n",
        "    !wget -q https://raw.githubusercontent.com/yandexdataschool/Practical_RL/master/setup_colab.sh -O- | bash\n",
        "    !touch .setup_complete\n",
        "\n",
        "# This code creates a virtual display to draw game images on\n",
        "# It will have no effect if your machine has a monitor.\n",
        "if type(os.environ.get(\"DISPLAY\")) is not str or len(os.environ.get(\"DISPLAY\")) == 0:\n",
        "    !bash ../xvfb start\n",
        "    os.environ['DISPLAY'] = ':1'"
      ]
    },
    {
      "cell_type": "code",
      "execution_count": 2,
      "metadata": {
        "id": "GXb-AtDWsCsj"
      },
      "outputs": [],
      "source": [
        "import gym\n",
        "import numpy as np\n",
        "import matplotlib.pyplot as plt\n",
        "%matplotlib inline"
      ]
    },
    {
      "cell_type": "markdown",
      "metadata": {
        "id": "bmbqa9uZsCsk"
      },
      "source": [
        "A caveat: with some versions of `pyglet`, the following cell may crash with `NameError: name 'base' is not defined`. The corresponding bug report is [here](https://github.com/pyglet/pyglet/issues/134). If you see this error, try restarting the kernel."
      ]
    },
    {
      "cell_type": "code",
      "execution_count": 57,
      "metadata": {
        "id": "8zrgkQycsCsk",
        "outputId": "abdf3b88-0200-4b63-9ff8-de82f52703af",
        "colab": {
          "base_uri": "https://localhost:8080/",
          "height": 287
        }
      },
      "outputs": [
        {
          "output_type": "execute_result",
          "data": {
            "text/plain": [
              "<matplotlib.image.AxesImage at 0x7fe4c27af450>"
            ]
          },
          "metadata": {},
          "execution_count": 57
        },
        {
          "output_type": "display_data",
          "data": {
            "text/plain": [
              "<Figure size 432x288 with 1 Axes>"
            ],
            "image/png": "[encoded data removed]"
          },
          "metadata": {
            "needs_background": "light"
          }
        }
      ],
      "source": [
        "env = gym.make(\"CartPole-v0\")\n",
        "\n",
        "# gym compatibility: unwrap TimeLimit\n",
        "if hasattr(env, '_max_episode_steps'):\n",
        "    env = env.env\n",
        "\n",
        "env.reset()\n",
        "n_actions = env.action_space.n\n",
        "state_dim = env.observation_space.shape\n",
        "\n",
        "plt.imshow(env.render(\"rgb_array\"))"
      ]
    },
    {
      "cell_type": "markdown",
      "metadata": {
        "id": "6umVRL0_sCsl"
      },
      "source": [
        "# Building the network for REINFORCE"
      ]
    },
    {
      "cell_type": "markdown",
      "metadata": {
        "id": "N5b64uZVsCsl"
      },
      "source": [
        "For REINFORCE algorithm, we'll need a model that predicts action probabilities given states.\n",
        "\n",
        "For numerical stability, please __do not include the softmax layer into your network architecture__.\n",
        "We'll use softmax or log-softmax where appropriate."
      ]
    },
    {
      "cell_type": "code",
      "execution_count": 44,
      "metadata": {
        "id": "WOOVj7j3sCsl"
      },
      "outputs": [],
      "source": [
        "import torch\n",
        "import torch.nn as nn"
      ]
    },
    {
      "cell_type": "code",
      "execution_count": 58,
      "metadata": {
        "id": "SHxC8GjnsCsm"
      },
      "outputs": [],
      "source": [
        "# Build a simple neural network that predicts policy logits. \n",
        "# Keep it simple: CartPole isn't worth deep architectures.\n",
        "model = nn.Sequential(\n",
        "    nn.Linear(state_dim[0], 20),\n",
        "    nn.ReLU(),\n",
        "    nn.Linear(20, n_actions)\n",
        ")"
      ]
    },
    {
      "cell_type": "markdown",
      "metadata": {
        "id": "DgblVjR5sCsm"
      },
      "source": [
        "#### Predict function"
      ]
    },
    {
      "cell_type": "markdown",
      "metadata": {
        "id": "ejxeRZqCsCsn"
      },
      "source": [
        "Note: output value of this function is not a torch tensor, it's a numpy array.\n",
        "So, here gradient calculation is not needed.\n",
        "<br>\n",
        "Use [no_grad](https://pytorch.org/docs/stable/autograd.html#torch.autograd.no_grad)\n",
        "to suppress gradient calculation.\n",
        "<br>\n",
        "Also, `.detach()` (or legacy `.data` property) can be used instead, but there is a difference:\n",
        "<br>\n",
        "With `.detach()` computational graph is built but then disconnected from a particular tensor,\n",
        "so `.detach()` should be used if that graph is needed for backprop via some other (not detached) tensor;\n",
        "<br>\n",
        "In contrast, no graph is built by any operation in `no_grad()` context, thus it's preferable here."
      ]
    },
    {
      "cell_type": "code",
      "execution_count": 48,
      "metadata": {
        "id": "Z27yFI6_sCsn"
      },
      "outputs": [],
      "source": [
        "def predict_probs(states):\n",
        "    \"\"\" \n",
        "    Predict action probabilities given states.\n",
        "    :param states: numpy array of shape [batch, state_shape]\n",
        "    :returns: numpy array of shape [batch, n_actions]\n",
        "    \"\"\"\n",
        "    # convert states, compute logits, use softmax to get probability\n",
        "    states = torch.as_tensor(states).float()\n",
        "    with torch.no_grad():\n",
        "        logits = model(states)\n",
        "    probs = torch.softmax(logits, dim=-1)\n",
        "    return np.array(probs)"
      ]
    },
    {
      "cell_type": "code",
      "execution_count": 49,
      "metadata": {
        "id": "B3eGS-TDsCso"
      },
      "outputs": [],
      "source": [
        "test_states = np.array([env.reset() for _ in range(5)])\n",
        "test_probas = predict_probs(test_states)\n",
        "assert isinstance(test_probas, np.ndarray), \\\n",
        "    \"you must return np array and not %s\" % type(test_probas)\n",
        "assert tuple(test_probas.shape) == (test_states.shape[0], env.action_space.n), \\\n",
        "    \"wrong output shape: %s\" % np.shape(test_probas)\n",
        "assert np.allclose(np.sum(test_probas, axis=1), 1), \"probabilities do not sum to 1\""
      ]
    },
    {
      "cell_type": "markdown",
      "metadata": {
        "id": "eSk79pJysCso"
      },
      "source": [
        "### Play the game\n",
        "\n",
        "We can now use our newly built agent to play the game."
      ]
    },
    {
      "cell_type": "code",
      "execution_count": 50,
      "metadata": {
        "id": "EA7_TwOOsCso"
      },
      "outputs": [],
      "source": [
        "def generate_session(env, t_max=1000):\n",
        "    \"\"\" \n",
        "    Play a full session with REINFORCE agent.\n",
        "    Returns sequences of states, actions, and rewards.\n",
        "    \"\"\"\n",
        "    # arrays to record session\n",
        "    states, actions, rewards = [], [], []\n",
        "    s = env.reset()\n",
        "\n",
        "    for t in range(t_max):\n",
        "        # action probabilities array aka pi(a|s)\n",
        "        action_probs = predict_probs(np.array([s]))[0]\n",
        "\n",
        "        # Sample action with given probabilities.\n",
        "        a = np.random.choice(np.arange(n_actions), p=action_probs)\n",
        "        new_s, r, done, info = env.step(a)\n",
        "\n",
        "        # record session history to train later\n",
        "        states.append(s)\n",
        "        actions.append(a)\n",
        "        rewards.append(r)\n",
        "\n",
        "        s = new_s\n",
        "        if done:\n",
        "            break\n",
        "\n",
        "    return states, actions, rewards"
      ]
    },
    {
      "cell_type": "code",
      "execution_count": 51,
      "metadata": {
        "id": "dKIXntuisCsp"
      },
      "outputs": [],
      "source": [
        "# test it\n",
        "states, actions, rewards = generate_session(env)"
      ]
    },
    {
      "cell_type": "code",
      "source": [
        "data = np.zeros(4)\n",
        "[data[i+1]+1 for i in range(2,-1, -1)]"
      ],
      "metadata": {
        "id": "T94xow0G8yjp",
        "outputId": "2201309c-1d96-4716-c9b4-45bd06657c50",
        "colab": {
          "base_uri": "https://localhost:8080/"
        }
      },
      "execution_count": 69,
      "outputs": [
        {
          "output_type": "execute_result",
          "data": {
            "text/plain": [
              "[1.0, 1.0, 1.0]"
            ]
          },
          "metadata": {},
          "execution_count": 69
        }
      ]
    },
    {
      "cell_type": "markdown",
      "metadata": {
        "id": "xP3syqA4sCsp"
      },
      "source": [
        "### Computing cumulative rewards\n",
        "\n",
        "$$\n",
        "\\begin{align*}\n",
        "G_t &= r_t + \\gamma r_{t + 1} + \\gamma^2 r_{t + 2} + \\ldots \\\\\n",
        "&= \\sum_{i = t}^T \\gamma^{i - t} r_i \\\\\n",
        "&= r_t + \\gamma * G_{t + 1}\n",
        "\\end{align*}\n",
        "$$"
      ]
    },
    {
      "cell_type": "code",
      "execution_count": 71,
      "metadata": {
        "id": "zwMZNbVNsCsp"
      },
      "outputs": [],
      "source": [
        "def get_cumulative_rewards(rewards,  # rewards at each step\n",
        "                           gamma=0.99  # discount for reward\n",
        "                           ):\n",
        "    \"\"\"\n",
        "    Take a list of immediate rewards r(s,a) for the whole session \n",
        "    and compute cumulative returns (a.k.a. G(s,a) in Sutton '16).\n",
        "    \n",
        "    G_t = r_t + gamma*r_{t+1} + gamma^2*r_{t+2} + ...\n",
        "\n",
        "    A simple way to compute cumulative rewards is to iterate from the last\n",
        "    to the first timestep and compute G_t = r_t + gamma*G_{t+1} recurrently\n",
        "\n",
        "    You must return an array/list of cumulative rewards with as many elements as in the initial rewards.\n",
        "    \"\"\"\n",
        "    # res = np.zeros(len(rewards))\n",
        "    # for t in range(0, len(rewards)):\n",
        "    #     curr_rewards = rewards[t:]\n",
        "    #     res[t] = np.sum([curr_rewards[i]*gamma**i for i in range(0, len(curr_rewards))])\n",
        "    res = np.zeros(len(rewards))\n",
        "    future_r = 0\n",
        "    for i in range(len(rewards)-1, -1, -1):\n",
        "      future_r = rewards[i] + gamma * future_r\n",
        "      res[i] = future_r\n",
        "    return res"
      ]
    },
    {
      "cell_type": "code",
      "execution_count": 72,
      "metadata": {
        "id": "zuBwmpEUsCsp",
        "outputId": "9d64b035-960d-484b-9858-6ca7e2d09bac",
        "colab": {
          "base_uri": "https://localhost:8080/"
        }
      },
      "outputs": [
        {
          "output_type": "stream",
          "name": "stdout",
          "text": [
            "looks good!\n"
          ]
        }
      ],
      "source": [
        "get_cumulative_rewards(rewards)\n",
        "assert len(get_cumulative_rewards(list(range(100)))) == 100\n",
        "assert np.allclose(\n",
        "    get_cumulative_rewards([0, 0, 1, 0, 0, 1, 0], gamma=0.9),\n",
        "    [1.40049, 1.5561, 1.729, 0.81, 0.9, 1.0, 0.0])\n",
        "assert np.allclose(\n",
        "    get_cumulative_rewards([0, 0, 1, -2, 3, -4, 0], gamma=0.5),\n",
        "    [0.0625, 0.125, 0.25, -1.5, 1.0, -4.0, 0.0])\n",
        "assert np.allclose(\n",
        "    get_cumulative_rewards([0, 0, 1, 2, 3, 4, 0], gamma=0),\n",
        "    [0, 0, 1, 2, 3, 4, 0])\n",
        "print(\"looks good!\")"
      ]
    },
    {
      "cell_type": "markdown",
      "metadata": {
        "id": "HZjyfgTjsCsq"
      },
      "source": [
        "#### Loss function and updates\n",
        "\n",
        "We now need to define objective and update over policy gradient.\n",
        "\n",
        "Our objective function is\n",
        "\n",
        "$$ J \\approx  { 1 \\over N } \\sum_{s_i,a_i} G(s_i,a_i) $$\n",
        "\n",
        "REINFORCE defines a way to compute the gradient of the expected reward with respect to policy parameters. The formula is as follows:\n",
        "\n",
        "$$ \\nabla_\\theta \\hat J(\\theta) \\approx { 1 \\over N } \\sum_{s_i, a_i} \\nabla_\\theta \\log \\pi_\\theta (a_i \\mid s_i) \\cdot G_t(s_i, a_i) $$\n",
        "\n",
        "We can abuse PyTorch's capabilities for automatic differentiation by defining our objective function as follows:\n",
        "\n",
        "$$ \\hat J(\\theta) \\approx { 1 \\over N } \\sum_{s_i, a_i} \\log \\pi_\\theta (a_i \\mid s_i) \\cdot G_t(s_i, a_i) $$\n",
        "\n",
        "When you compute the gradient of that function with respect to network weights $\\theta$, it will become exactly the policy gradient."
      ]
    },
    {
      "cell_type": "code",
      "execution_count": 54,
      "metadata": {
        "id": "HaSnfe_6sCsq"
      },
      "outputs": [],
      "source": [
        "def to_one_hot(y_tensor, ndims):\n",
        "    \"\"\" helper: take an integer vector and convert it to 1-hot matrix. \"\"\"\n",
        "    y_tensor = y_tensor.type(torch.LongTensor).view(-1, 1)\n",
        "    y_one_hot = torch.zeros(\n",
        "        y_tensor.size()[0], ndims).scatter_(1, y_tensor, 1)\n",
        "    return y_one_hot"
      ]
    },
    {
      "cell_type": "code",
      "execution_count": 73,
      "metadata": {
        "id": "cFNbrwWhsCsq"
      },
      "outputs": [],
      "source": [
        "# Your code: define optimizers\n",
        "optimizer = torch.optim.Adam(model.parameters(), 1e-3)\n",
        "\n",
        "\n",
        "def train_on_session(states, actions, rewards, gamma=0.99, entropy_coef=1e-2):\n",
        "    \"\"\"\n",
        "    Takes a sequence of states, actions and rewards produced by generate_session.\n",
        "    Updates agent's weights by following the policy gradient above.\n",
        "    Please use Adam optimizer with default parameters.\n",
        "    \"\"\"\n",
        "\n",
        "    # cast everything into torch tensors\n",
        "    states = torch.tensor(states, dtype=torch.float32)\n",
        "    actions = torch.tensor(actions, dtype=torch.int32)\n",
        "    cumulative_returns = np.array(get_cumulative_rewards(rewards, gamma))\n",
        "    cumulative_returns = torch.tensor(cumulative_returns, dtype=torch.float32)\n",
        "\n",
        "    # predict logits, probas and log-probas using an agent.\n",
        "    logits = model(states)\n",
        "    probs = nn.functional.softmax(logits, -1)\n",
        "    log_probs = nn.functional.log_softmax(logits, -1)\n",
        "\n",
        "    assert all(isinstance(v, torch.Tensor) for v in [logits, probs, log_probs]), \\\n",
        "        \"please use compute using torch tensors and don't use predict_probs function\"\n",
        "\n",
        "    # select log-probabilities for chosen actions, log pi(a_i|s_i)\n",
        "    log_probs_for_actions = torch.sum(\n",
        "        log_probs * to_one_hot(actions, env.action_space.n), dim=1)\n",
        "   \n",
        "    # Compute loss here. Don't forgen entropy regularization with `entropy_coef` \n",
        "    policy_loss = - (log_probs_for_actions * cumulative_returns).mean()\n",
        "    entropy = - (probs * log_probs).sum(dim=1).mean()\n",
        "    loss = policy_loss - entropy_coef*entropy\n",
        "\n",
        "    # Gradient descent step\n",
        "    loss.backward()\n",
        "    optimizer.step()\n",
        "\n",
        "    # technical: return session rewards to print them later\n",
        "    return np.sum(rewards)"
      ]
    },
    {
      "cell_type": "markdown",
      "metadata": {
        "id": "xhgwYTdRsCsr"
      },
      "source": [
        "### The actual training"
      ]
    },
    {
      "cell_type": "code",
      "execution_count": 74,
      "metadata": {
        "id": "lWGfojD9sCsr",
        "outputId": "d699150c-e3c0-4a1e-ac64-c4d6e4012505",
        "colab": {
          "base_uri": "https://localhost:8080/"
        }
      },
      "outputs": [
        {
          "output_type": "stream",
          "name": "stdout",
          "text": [
            "mean reward:19.680\n",
            "mean reward:24.020\n",
            "mean reward:50.060\n",
            "mean reward:66.090\n",
            "mean reward:95.930\n",
            "mean reward:107.950\n",
            "mean reward:89.080\n",
            "mean reward:70.280\n",
            "mean reward:187.350\n",
            "mean reward:322.020\n",
            "mean reward:638.480\n",
            "You Win!\n"
          ]
        }
      ],
      "source": [
        "for i in range(100):\n",
        "    rewards = [train_on_session(*generate_session(env)) for _ in range(100)]  # generate new sessions\n",
        "    \n",
        "    print(\"mean reward:%.3f\" % (np.mean(rewards)))\n",
        "    \n",
        "    if np.mean(rewards) > 500:\n",
        "        print(\"You Win!\")  # but you can train even further\n",
        "        break"
      ]
    },
    {
      "cell_type": "markdown",
      "metadata": {
        "id": "Fcw2wfbbsCsr"
      },
      "source": [
        "### Results & video"
      ]
    },
    {
      "cell_type": "code",
      "execution_count": 75,
      "metadata": {
        "id": "fdPd-3zPsCsr"
      },
      "outputs": [],
      "source": [
        "# Record sessions\n",
        "\n",
        "import gym.wrappers\n",
        "\n",
        "with gym.wrappers.Monitor(gym.make(\"CartPole-v0\"), directory=\"videos\", force=True) as env_monitor:\n",
        "    sessions = [generate_session(env_monitor) for _ in range(100)]"
      ]
    },
    {
      "cell_type": "code",
      "execution_count": 76,
      "metadata": {
        "id": "I2lkC4iLsCsr",
        "outputId": "cd07a4c5-47a9-4c0b-dc76-60c23f9802c5",
        "colab": {
          "base_uri": "https://localhost:8080/",
          "height": 501
        }
      },
      "outputs": [
        {
          "output_type": "execute_result",
          "data": {
            "text/plain": [
              "<IPython.core.display.HTML object>"
            ],
            "text/html": [
              "\n",
              "<video width=\"640\" height=\"480\" controls>\n",
              "  <source src=\"data:video/mp4;base64,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\" type=\"video/mp4\">\n",
              "</video>\n"
            ]
          },
          "metadata": {},
          "execution_count": 76
        }
      ],
      "source": [
        "# Show video. This may not work in some setups. If it doesn't\n",
        "# work for you, you can download the videos and view them locally.\n",
        "\n",
        "from pathlib import Path\n",
        "from base64 import b64encode\n",
        "from IPython.display import HTML\n",
        "\n",
        "video_paths = sorted([s for s in Path('videos').iterdir() if s.suffix == '.mp4'])\n",
        "video_path = video_paths[-1]  # You can also try other indices\n",
        "\n",
        "if 'google.colab' in sys.modules:\n",
        "    # https://stackoverflow.com/a/57378660/1214547\n",
        "    with video_path.open('rb') as fp:\n",
        "        mp4 = fp.read()\n",
        "    data_url = 'data:video/mp4;base64,' + b64encode(mp4).decode()\n",
        "else:\n",
        "    data_url = str(video_path)\n",
        "\n",
        "HTML(\"\"\"\n",
        "<video width=\"640\" height=\"480\" controls>\n",
        "  <source src=\"{}\" type=\"video/mp4\">\n",
        "</video>\n",
        "\"\"\".format(data_url))"
      ]
    },
    {
      "cell_type": "code",
      "source": [
        ""
      ],
      "metadata": {
        "id": "A50B8k4Y9iTJ"
      },
      "execution_count": null,
      "outputs": []
    }
  ],
  "metadata": {
    "language_info": {
      "name": "python"
    },
    "colab": {
      "name": "reinforce_pytorch.ipynb",
      "provenance": []
    },
    "kernelspec": {
      "name": "python3",
      "display_name": "Python 3"
    }
  },
  "nbformat": 4,
  "nbformat_minor": 0
}